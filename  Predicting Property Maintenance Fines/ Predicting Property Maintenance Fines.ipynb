{
 "cells": [
  {
   "cell_type": "markdown",
   "metadata": {},
   "source": [
    "## Understanding and Predicting Property Maintenance Fines\n",
    "\n",
    "This assignment is based on a data challenge from the Michigan Data Science Team ([MDST](http://midas.umich.edu/mdst/)). \n",
    "\n",
    "The Michigan Data Science Team ([MDST](http://midas.umich.edu/mdst/)) and the Michigan Student Symposium for Interdisciplinary Statistical Sciences ([MSSISS](https://sites.lsa.umich.edu/mssiss/)) have partnered with the City of Detroit to help solve one of the most pressing problems facing Detroit - blight. [Blight violations](http://www.detroitmi.gov/How-Do-I/Report/Blight-Complaint-FAQs) are issued by the city to individuals who allow their properties to remain in a deteriorated condition. Every year, the city of Detroit issues millions of dollars in fines to residents and every year, many of these fines remain unpaid. Enforcing unpaid blight fines is a costly and tedious process, so the city wants to know: how can we increase blight ticket compliance?\n",
    "\n",
    "The first step in answering this question is understanding when and why a resident might fail to comply with a blight ticket. This is where predictive modeling comes in. For this assignment, your task is to predict whether a given blight ticket will be paid on time.\n",
    "\n",
    "All data for this assignment has been provided to us through the [Detroit Open Data Portal](https://data.detroitmi.gov/). **Only the data already included in your Coursera directory can be used for training the model for this assignment.** Nonetheless, we encourage you to look into data from other Detroit datasets to help inform feature creation and model selection. We recommend taking a look at the following related datasets:\n",
    "\n",
    "* [Building Permits](https://data.detroitmi.gov/Property-Parcels/Building-Permits/xw2a-a7tf)\n",
    "* [Trades Permits](https://data.detroitmi.gov/Property-Parcels/Trades-Permits/635b-dsgv)\n",
    "* [Improve Detroit: Submitted Issues](https://data.detroitmi.gov/Government/Improve-Detroit-Submitted-Issues/fwz3-w3yn)\n",
    "* [DPD: Citizen Complaints](https://data.detroitmi.gov/Public-Safety/DPD-Citizen-Complaints-2016/kahe-efs3)\n",
    "* [Parcel Map](https://data.detroitmi.gov/Property-Parcels/Parcel-Map/fxkw-udwf)\n",
    "\n",
    "___\n",
    "\n",
    "We provide you with two data files for use in training and validating your models: train.csv and test.csv. Each row in these two files corresponds to a single blight ticket, and includes information about when, why, and to whom each ticket was issued. The target variable is compliance, which is True if the ticket was paid early, on time, or within one month of the hearing data, False if the ticket was paid after the hearing date or not at all, and Null if the violator was found not responsible. Compliance, as well as a handful of other variables that will not be available at test-time, are only included in train.csv.\n",
    "\n",
    "Note: All tickets where the violators were found not responsible are not considered during evaluation. They are included in the training set as an additional source of data for visualization, and to enable unsupervised and semi-supervised approaches. However, they are not included in the test set.\n",
    "\n",
    "<br>\n",
    "\n",
    "**File descriptions** (Use only this data for training your model!)\n",
    "\n",
    "    train.csv - the training set (all tickets issued 2004-2011)\n",
    "    test.csv - the test set (all tickets issued 2012-2016)\n",
    "    addresses.csv & latlons.csv - mapping from ticket id to addresses, and from addresses to lat/lon coordinates. \n",
    "     Note: misspelled addresses may be incorrectly geolocated.\n",
    "\n",
    "<br>\n",
    "\n",
    "**Data fields**\n",
    "\n",
    "train.csv & test.csv\n",
    "\n",
    "    ticket_id - unique identifier for tickets\n",
    "    agency_name - Agency that issued the ticket\n",
    "    inspector_name - Name of inspector that issued the ticket\n",
    "    violator_name - Name of the person/organization that the ticket was issued to\n",
    "    violation_street_number, violation_street_name, violation_zip_code - Address where the violation occurred\n",
    "    mailing_address_str_number, mailing_address_str_name, city, state, zip_code, non_us_str_code, country - Mailing address of the violator\n",
    "    ticket_issued_date - Date and time the ticket was issued\n",
    "    hearing_date - Date and time the violator's hearing was scheduled\n",
    "    violation_code, violation_description - Type of violation\n",
    "    disposition - Judgment and judgement type\n",
    "    fine_amount - Violation fine amount, excluding fees\n",
    "    admin_fee - $20 fee assigned to responsible judgments\n",
    "state_fee - $10 fee assigned to responsible judgments\n",
    "    late_fee - 10% fee assigned to responsible judgments\n",
    "    discount_amount - discount applied, if any\n",
    "    clean_up_cost - DPW clean-up or graffiti removal cost\n",
    "    judgment_amount - Sum of all fines and fees\n",
    "    grafitti_status - Flag for graffiti violations\n",
    "    \n",
    "train.csv only\n",
    "\n",
    "    payment_amount - Amount paid, if any\n",
    "    payment_date - Date payment was made, if it was received\n",
    "    payment_status - Current payment status as of Feb 1 2017\n",
    "    balance_due - Fines and fees still owed\n",
    "    collection_status - Flag for payments in collections\n",
    "    compliance [target variable for prediction] \n",
    "     Null = Not responsible\n",
    "     0 = Responsible, non-compliant\n",
    "     1 = Responsible, compliant\n",
    "    compliance_detail - More information on why each ticket was marked compliant or non-compliant\n",
    "\n",
    "\n",
    "___\n",
    "\n",
    "## Evaluation\n",
    "\n",
    "Your predictions will be given as the probability that the corresponding blight ticket will be paid on time.\n",
    "\n",
    "The evaluation metric for this assignment is the Area Under the ROC Curve (AUC). \n",
    "\n",
    "Your grade will be based on the AUC score computed for your classifier. A model which with an AUROC of 0.7 passes this assignment, over 0.75 will recieve full points.\n",
    "___\n",
    "\n",
    "For this assignment, create a function that trains a model to predict blight ticket compliance in Detroit using `train.csv`. Using this model, return a series of length 61001 with the data being the probability that each corresponding ticket from `test.csv` will be paid, and the index being the ticket_id.\n",
    "\n",
    "Example:\n",
    "\n",
    "    ticket_id\n",
    "       284932    0.531842\n",
    "       285362    0.401958\n",
    "       285361    0.105928\n",
    "       285338    0.018572\n",
    "                 ...\n",
    "       376499    0.208567\n",
    "       376500    0.818759\n",
    "       369851    0.018528\n",
    "       Name: compliance, dtype: float32\n",
    "       "
   ]
  },
  {
   "cell_type": "code",
   "execution_count": null,
   "metadata": {
    "collapsed": true
   },
   "outputs": [],
   "source": [
    "import pandas as pd\n",
    "import numpy as np\n",
    "\n",
    "training = pd.read_csv(\"file:///Users/qiankunhuang/Downloads/project/train.csv\")\n",
    "location = pd.read_csv(\"file:///Users/qiankunhuang/Downloads/project/latlons.csv\")\n",
    "address = pd.read_csv(\"file:///Users/qiankunhuang/Downloads/project/addresses.csv\")\n",
    "testing = pd.read_csv(\"file:///Users/qiankunhuang/Downloads/project/test.csv\")"
   ]
  },
  {
   "cell_type": "code",
   "execution_count": 2,
   "metadata": {
    "collapsed": true
   },
   "outputs": [],
   "source": [
    "both_col=['address','fine_amount', 'violator_name', 'zip_code',\n",
    "                   'country', 'city','inspector_name',\n",
    "                   'violation_street_number',\n",
    "                   'violation_street_name',\n",
    "                   'violation_zip_code',\n",
    "                   'violation_description',\n",
    "                   'mailing_address_str_number', \n",
    "                   'mailing_address_str_name',\n",
    "                   'non_us_str_code','ticket_issued_date',\n",
    "                   'hearing_date', 'grafitti_status',\n",
    "                   'violation_code']\n",
    "train_col = ['payment_amount','payment_date','payment_status','balance_due','collection_status'\n",
    ",'compliance_detail','collection_status']"
   ]
  },
  {
   "cell_type": "code",
   "execution_count": 3,
   "metadata": {
    "collapsed": true
   },
   "outputs": [],
   "source": [
    "from collections import Counter\n",
    "locat =location.merge(address, on = 'address',how ='inner')\n",
    "train = locat.merge(training, on = 'ticket_id', how= 'inner')\n",
    "train.set_index('ticket_id', inplace = True)\n",
    "test = locat.merge(testing, on = 'ticket_id', how= 'inner')\n",
    "test.set_index('ticket_id', inplace = True)\n"
   ]
  },
  {
   "cell_type": "code",
   "execution_count": 4,
   "metadata": {
    "collapsed": true
   },
   "outputs": [],
   "source": [
    "train2 = train[~train['hearing_date'].isnull()]\n",
    "train2 = train2[(train2['compliance']==0)|(train2['compliance']==1)]\n",
    "test = test[~test['hearing_date'].isnull()]\n",
    "\n",
    "\n",
    "from datetime import datetime\n",
    "def time(a,b):\n",
    "    if not b or type(b) != str:\n",
    "            return 73\n",
    "    c=datetime.strptime(a, '%Y-%m-%d %H:%M:%S')\n",
    "    d=datetime.strptime(b, '%Y-%m-%d %H:%M:%S')\n",
    "    day= d-c\n",
    "    return day.days\n",
    "train2['gap'] = train2.apply(lambda row: time(row['ticket_issued_date'],row['hearing_date']),axis=1)\n",
    "test['gap']= test.apply(lambda row: time(row['ticket_issued_date'],row['hearing_date']),axis=1)\n",
    "train2['lat'].fillna(method = 'pad',inplace = True)\n",
    "train2['lon'].fillna(method = 'pad',inplace =True)\n",
    "train2['state'].fillna(method='pad',inplace=True)\n",
    "test.state.fillna(method = 'pad', inplace = True)\n",
    "test.lat.fillna(method = 'pad', inplace = True)\n",
    "test.lon.fillna(method = 'pad', inplace = True)\n",
    "test = test[test['city']=='DETROIT']\n",
    "train2.drop(train_col,axis=1,inplace=True )\n",
    "train2.drop(both_col,axis=1,inplace=True)\n",
    "test2=test.drop(both_col,axis=1)\n",
    "\n",
    "\n",
    "    "
   ]
  },
  {
   "cell_type": "code",
   "execution_count": 5,
   "metadata": {
    "collapsed": true
   },
   "outputs": [],
   "source": [
    "s = ['agency_name', 'state', 'disposition']\n",
    "train3= pd.get_dummies(train2,columns=s)\n",
    "test3 =  pd.get_dummies(test2,columns=s)\n",
    "train_y = train3['compliance']\n",
    "train_x= train3.drop('compliance',axis=1)\n",
    "\n",
    "feature_train = train3.columns.drop('compliance')\n",
    "feature_train_set = set(feature_train)\n",
    "for feature in set(feature_train):\n",
    "    if feature not in test3:\n",
    "        feature_train_set.remove(feature)\n",
    "feature_train = list(feature_train_set)\n",
    "x_train = train_x[feature_train]\n",
    "x_test = test3[feature_train]\n",
    "    "
   ]
  },
  {
   "cell_type": "code",
   "execution_count": 6,
   "metadata": {
    "collapsed": true
   },
   "outputs": [],
   "source": [
    "from sklearn.preprocessing import MinMaxScaler\n",
    "scaler=MinMaxScaler()\n",
    "train_x_scale = scaler.fit_transform(x_train)\n",
    "test3_scale = scaler.fit_transform(x_test)\n",
    "\n"
   ]
  },
  {
   "cell_type": "code",
   "execution_count": 7,
   "metadata": {},
   "outputs": [
    {
     "data": {
      "text/plain": [
       "array([[ 0.99473534,  0.00526466],\n",
       "       [ 0.97966236,  0.02033764],\n",
       "       [ 0.99747513,  0.00252487],\n",
       "       ..., \n",
       "       [ 0.99836448,  0.00163552],\n",
       "       [ 0.99717825,  0.00282175],\n",
       "       [ 0.99590658,  0.00409342]])"
      ]
     },
     "execution_count": 7,
     "metadata": {},
     "output_type": "execute_result"
    }
   ],
   "source": [
    "from sklearn.neural_network import MLPClassifier\n",
    "clf = MLPClassifier(hidden_layer_sizes = [100,20], alpha = 6,\n",
    "                       random_state = 0, solver = 'lbfgs',\n",
    "                       verbose = 0)\n",
    "clf.fit(train_x_scale,train_y)\n",
    "test_prob = clf.predict_proba(test3_scale)\n",
    "test_prob\n"
   ]
  },
  {
   "cell_type": "code",
   "execution_count": 8,
   "metadata": {},
   "outputs": [
    {
     "data": {
      "text/plain": [
       "(159653, 13)"
      ]
     },
     "execution_count": 8,
     "metadata": {},
     "output_type": "execute_result"
    }
   ],
   "source": [
    "train2.shape"
   ]
  },
  {
   "cell_type": "code",
   "execution_count": 9,
   "metadata": {
    "collapsed": true
   },
   "outputs": [],
   "source": [
    "from sklearn.ensemble import RandomForestClassifier \n",
    "train_y2 = train2['compliance']\n",
    "train_x2= train2.drop('compliance',axis=1)\n",
    "test2\n",
    "rfc = RandomForestClassifier()\n",
    "rfc.fit(train_x_scale, train_y)\n",
    "test_prob = rfc.predict_proba(test3_scale)"
   ]
  },
  {
   "cell_type": "code",
   "execution_count": 10,
   "metadata": {},
   "outputs": [
    {
     "data": {
      "text/plain": [
       "['agency_name_Buildings, Safety Engineering & Env Department',\n",
       " 'agency_name_Detroit Police Department',\n",
       " 'disposition_Responsible by Determination',\n",
       " 'state_fee',\n",
       " 'state_SC',\n",
       " 'state_MA',\n",
       " 'admin_fee',\n",
       " 'state_ME',\n",
       " 'state_MD',\n",
       " 'state_MI',\n",
       " 'clean_up_cost',\n",
       " 'lon',\n",
       " 'state_MO',\n",
       " 'state_MN',\n",
       " 'state_KS',\n",
       " 'judgment_amount',\n",
       " 'discount_amount',\n",
       " 'state_IA',\n",
       " 'agency_name_Department of Public Works',\n",
       " 'disposition_Responsible by Default',\n",
       " 'state_AK',\n",
       " 'gap',\n",
       " 'disposition_Responsible by Admission',\n",
       " 'state_CA',\n",
       " 'disposition_Responsible (Fine Waived) by Deter',\n",
       " 'lat',\n",
       " 'state_NB',\n",
       " 'state_ND',\n",
       " 'state_DE',\n",
       " 'late_fee']"
      ]
     },
     "execution_count": 10,
     "metadata": {},
     "output_type": "execute_result"
    }
   ],
   "source": [
    "feature_train"
   ]
  },
  {
   "cell_type": "code",
   "execution_count": 11,
   "metadata": {},
   "outputs": [
    {
     "data": {
      "text/plain": [
       "array([[ 1. ,  0. ],\n",
       "       [ 0.6,  0.4],\n",
       "       [ 0.5,  0.5],\n",
       "       ..., \n",
       "       [ 0.9,  0.1],\n",
       "       [ 0.6,  0.4],\n",
       "       [ 0.7,  0.3]])"
      ]
     },
     "execution_count": 11,
     "metadata": {},
     "output_type": "execute_result"
    }
   ],
   "source": [
    "test_prob"
   ]
  }
 ],
 "metadata": {
  "kernelspec": {
   "display_name": "Python 2",
   "language": "python",
   "name": "python2"
  },
  "language_info": {
   "codemirror_mode": {
    "name": "ipython",
    "version": 2
   },
   "file_extension": ".py",
   "mimetype": "text/x-python",
   "name": "python",
   "nbconvert_exporter": "python",
   "pygments_lexer": "ipython2",
   "version": "2.7.13"
  }
 },
 "nbformat": 4,
 "nbformat_minor": 2
}
